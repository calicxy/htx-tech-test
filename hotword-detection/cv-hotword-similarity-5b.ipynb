{
 "cells": [
  {
   "cell_type": "code",
   "execution_count": 37,
   "metadata": {},
   "outputs": [],
   "source": [
    "import pandas as pd\n",
    "import numpy as np\n",
    "from InstructorEmbedding import INSTRUCTOR\n",
    "import sklearn.cluster"
   ]
  },
  {
   "cell_type": "code",
   "execution_count": 49,
   "metadata": {},
   "outputs": [],
   "source": [
    "finetuned = pd.read_csv(\"cv-valid-dev_detection.csv\")\n",
    "finetuned[\"generated_text\"].fillna('', inplace=True)"
   ]
  },
  {
   "cell_type": "code",
   "execution_count": 3,
   "metadata": {},
   "outputs": [
    {
     "name": "stderr",
     "output_type": "stream",
     "text": [
      ".gitattributes: 100%|██████████| 1.48k/1.48k [00:00<?, ?B/s]\n",
      "1_Pooling/config.json: 100%|██████████| 270/270 [00:00<?, ?B/s] \n",
      "2_Dense/config.json: 100%|██████████| 116/116 [00:00<?, ?B/s] \n",
      "pytorch_model.bin: 100%|██████████| 3.15M/3.15M [00:00<00:00, 27.0MB/s]\n",
      "README.md: 100%|██████████| 66.3k/66.3k [00:00<00:00, 33.8MB/s]\n",
      "config.json: 100%|██████████| 1.53k/1.53k [00:00<00:00, 1.52MB/s]\n",
      "config_sentence_transformers.json: 100%|██████████| 122/122 [00:00<00:00, 127kB/s]\n",
      "pytorch_model.bin: 100%|██████████| 1.34G/1.34G [00:21<00:00, 62.9MB/s]\n",
      "sentence_bert_config.json: 100%|██████████| 53.0/53.0 [00:00<00:00, 54.1kB/s]\n",
      "special_tokens_map.json: 100%|██████████| 2.20k/2.20k [00:00<?, ?B/s]\n",
      "spiece.model: 100%|██████████| 792k/792k [00:00<00:00, 35.1MB/s]\n",
      "tokenizer.json: 100%|██████████| 2.42M/2.42M [00:00<00:00, 9.44MB/s]\n",
      "tokenizer_config.json: 100%|██████████| 2.41k/2.41k [00:00<?, ?B/s]\n",
      "modules.json: 100%|██████████| 461/461 [00:00<00:00, 462kB/s]\n"
     ]
    },
    {
     "name": "stdout",
     "output_type": "stream",
     "text": [
      "load INSTRUCTOR_Transformer\n",
      "max_seq_length  512\n"
     ]
    }
   ],
   "source": [
    "model = INSTRUCTOR('hkunlp/instructor-large')"
   ]
  },
  {
   "cell_type": "code",
   "execution_count": 53,
   "metadata": {},
   "outputs": [
    {
     "name": "stdout",
     "output_type": "stream",
     "text": [
      "[0 0 0 1 1 1 1]\n"
     ]
    },
    {
     "name": "stderr",
     "output_type": "stream",
     "text": [
      "c:\\Users\\calic\\Documents\\GitHub\\htx-tech-test\\venv\\lib\\site-packages\\sklearn\\cluster\\_kmeans.py:1416: FutureWarning: The default value of `n_init` will change from 10 to 'auto' in 1.4. Set the value of `n_init` explicitly to suppress the warning\n",
      "  super()._check_params_vs_input(X, default_n_init=10)\n"
     ]
    }
   ],
   "source": [
    "instruction = '''Represent the similarity of the words in the sentence to the phrase \"be careful\" for clustering: '''\n",
    "sentences = [[instruction,'I love life'],\n",
    "            #  [instruction,'destroy'],\n",
    "             [instruction,'I like ice cream'],\n",
    "             [instruction,'Today was a sunny day'],\n",
    "             [instruction,\"Beware\"],\n",
    "             [instruction,'The bomb was about to destruct'],\n",
    "             [instruction,'watch out'],\n",
    "             [instruction,'be careful with your prognostications said the stranger']\n",
    "             ]\n",
    "embeddings = model.encode(sentences)\n",
    "clustering_model = sklearn.cluster.KMeans(n_clusters=2)\n",
    "clustering_model.fit(embeddings)\n",
    "cluster_assignment = clustering_model.labels_\n",
    "print(cluster_assignment)"
   ]
  },
  {
   "cell_type": "code",
   "execution_count": 41,
   "metadata": {},
   "outputs": [
    {
     "name": "stderr",
     "output_type": "stream",
     "text": [
      "c:\\Users\\calic\\Documents\\GitHub\\htx-tech-test\\venv\\lib\\site-packages\\sklearn\\cluster\\_kmeans.py:1416: FutureWarning: The default value of `n_init` will change from 10 to 'auto' in 1.4. Set the value of `n_init` explicitly to suppress the warning\n",
      "  super()._check_params_vs_input(X, default_n_init=10)\n"
     ]
    },
    {
     "name": "stdout",
     "output_type": "stream",
     "text": [
      "0\n"
     ]
    }
   ],
   "source": [
    "instruction = '''Represent the similarity of the words in the sentence to the word \"destroy\" for clustering: '''\n",
    "model_inputs = [[instruction, x.lower()] for x in finetuned[\"generated_text\"].values]\n",
    "model_inputs.append([instruction,'destroy'])\n",
    "embeddings = model.encode(model_inputs)\n",
    "clustering_model = sklearn.cluster.KMeans(n_clusters=2)\n",
    "clustering_model.fit(embeddings)\n",
    "cluster_assignment = clustering_model.labels_\n",
    "print(cluster_assignment[-1])"
   ]
  },
  {
   "cell_type": "code",
   "execution_count": 42,
   "metadata": {},
   "outputs": [],
   "source": [
    "finetuned['destroy_similar'] = np.where(cluster_assignment[:-1] == 0, True, False)"
   ]
  },
  {
   "cell_type": "code",
   "execution_count": 45,
   "metadata": {},
   "outputs": [
    {
     "name": "stderr",
     "output_type": "stream",
     "text": [
      "c:\\Users\\calic\\Documents\\GitHub\\htx-tech-test\\venv\\lib\\site-packages\\sklearn\\cluster\\_kmeans.py:1416: FutureWarning: The default value of `n_init` will change from 10 to 'auto' in 1.4. Set the value of `n_init` explicitly to suppress the warning\n",
      "  super()._check_params_vs_input(X, default_n_init=10)\n"
     ]
    },
    {
     "name": "stdout",
     "output_type": "stream",
     "text": [
      "1\n"
     ]
    }
   ],
   "source": [
    "instruction = '''Represent the similarity of the words in the sentence to the word \"stranger\" for clustering: '''\n",
    "model_inputs = [[instruction, x.lower()] for x in finetuned[\"generated_text\"].values]\n",
    "model_inputs.append([instruction,'stranger'])\n",
    "embeddings = model.encode(model_inputs)\n",
    "clustering_model = sklearn.cluster.KMeans(n_clusters=2)\n",
    "clustering_model.fit(embeddings)\n",
    "cluster_assignment = clustering_model.labels_\n",
    "print(cluster_assignment[-1])"
   ]
  },
  {
   "cell_type": "code",
   "execution_count": 46,
   "metadata": {},
   "outputs": [],
   "source": [
    "finetuned['stranger_similar'] = np.where(cluster_assignment[:-1] == 1, True, False)"
   ]
  },
  {
   "cell_type": "code",
   "execution_count": 54,
   "metadata": {},
   "outputs": [
    {
     "name": "stderr",
     "output_type": "stream",
     "text": [
      "c:\\Users\\calic\\Documents\\GitHub\\htx-tech-test\\venv\\lib\\site-packages\\sklearn\\cluster\\_kmeans.py:1416: FutureWarning: The default value of `n_init` will change from 10 to 'auto' in 1.4. Set the value of `n_init` explicitly to suppress the warning\n",
      "  super()._check_params_vs_input(X, default_n_init=10)\n"
     ]
    },
    {
     "name": "stdout",
     "output_type": "stream",
     "text": [
      "1\n"
     ]
    }
   ],
   "source": [
    "instruction = '''Represent the similarity of the words in the sentence to the phrase \"be careful\" for clustering: '''\n",
    "model_inputs = [[instruction, x.lower()] for x in finetuned[\"generated_text\"].values]\n",
    "model_inputs.append([instruction,'be careful'])\n",
    "embeddings = model.encode(model_inputs)\n",
    "clustering_model = sklearn.cluster.KMeans(n_clusters=2)\n",
    "clustering_model.fit(embeddings)\n",
    "cluster_assignment = clustering_model.labels_\n",
    "print(cluster_assignment[-1])"
   ]
  },
  {
   "cell_type": "code",
   "execution_count": 55,
   "metadata": {},
   "outputs": [],
   "source": [
    "finetuned['be_careful_similar'] = np.where(cluster_assignment[:-1] == 1, True, False)"
   ]
  },
  {
   "cell_type": "code",
   "execution_count": 60,
   "metadata": {},
   "outputs": [],
   "source": [
    "finetuned[\"similarity\"] = finetuned[[\"destroy_similar\",\"stranger_similar\",\"be_careful_similar\"]].any(bool_only=True, axis=1)"
   ]
  },
  {
   "cell_type": "code",
   "execution_count": 62,
   "metadata": {},
   "outputs": [
    {
     "data": {
      "text/plain": [
       "2929"
      ]
     },
     "execution_count": 62,
     "metadata": {},
     "output_type": "execute_result"
    }
   ],
   "source": [
    "finetuned[\"similarity\"].sum()"
   ]
  },
  {
   "cell_type": "code",
   "execution_count": 63,
   "metadata": {},
   "outputs": [],
   "source": [
    "finetuned.to_csv('cv-valid-dev_detection.csv')"
   ]
  },
  {
   "cell_type": "code",
   "execution_count": null,
   "metadata": {},
   "outputs": [],
   "source": []
  }
 ],
 "metadata": {
  "kernelspec": {
   "display_name": "venv",
   "language": "python",
   "name": "python3"
  },
  "language_info": {
   "codemirror_mode": {
    "name": "ipython",
    "version": 3
   },
   "file_extension": ".py",
   "mimetype": "text/x-python",
   "name": "python",
   "nbconvert_exporter": "python",
   "pygments_lexer": "ipython3",
   "version": "3.10.2"
  }
 },
 "nbformat": 4,
 "nbformat_minor": 2
}
