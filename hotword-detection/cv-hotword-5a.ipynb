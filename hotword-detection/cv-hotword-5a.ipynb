{
 "cells": [
  {
   "cell_type": "code",
   "execution_count": 2,
   "metadata": {},
   "outputs": [],
   "source": [
    "import pandas as pd\n",
    "import nltk"
   ]
  },
  {
   "cell_type": "code",
   "execution_count": 4,
   "metadata": {},
   "outputs": [],
   "source": [
    "finetuned = pd.read_csv(\"cv-valid-dev_finetuned.csv\", index_col=0)"
   ]
  },
  {
   "cell_type": "code",
   "execution_count": 11,
   "metadata": {},
   "outputs": [],
   "source": [
    "filename_list = []\n",
    "for id, row in finetuned.iterrows():\n",
    "    sentence = str(row[\"generated_text\"]).lower()\n",
    "    unigrams = nltk.tokenize.word_tokenize(sentence)\n",
    "    if any(a in unigrams for a in ('stranger', 'destroy')):\n",
    "        filename_list.append(row['filename'])\n",
    "        continue\n",
    "\n",
    "    bgrams = nltk.bigrams(unigrams)\n",
    "    for bigram in bgrams:\n",
    "        if bigram[0] == 'be' and bigram[1] == 'careful':\n",
    "            filename_list.append(row['filename'])"
   ]
  },
  {
   "cell_type": "code",
   "execution_count": 12,
   "metadata": {},
   "outputs": [],
   "source": [
    "with open(r'detected.txt', 'w') as fp:\n",
    "    for item in filename_list:\n",
    "        fp.write(\"%s\\n\" % item)\n"
   ]
  },
  {
   "cell_type": "code",
   "execution_count": null,
   "metadata": {},
   "outputs": [],
   "source": []
  }
 ],
 "metadata": {
  "kernelspec": {
   "display_name": "venv",
   "language": "python",
   "name": "python3"
  },
  "language_info": {
   "codemirror_mode": {
    "name": "ipython",
    "version": 3
   },
   "file_extension": ".py",
   "mimetype": "text/x-python",
   "name": "python",
   "nbconvert_exporter": "python",
   "pygments_lexer": "ipython3",
   "version": "3.10.2"
  }
 },
 "nbformat": 4,
 "nbformat_minor": 2
}
